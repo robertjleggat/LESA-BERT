{
 "cells": [
  {
   "cell_type": "markdown",
   "metadata": {
    "id": "j01aH0PR4Sg-"
   },
   "source": [
    "# Before you use this template\n",
    "\n",
    "This template is just a recommended template for project Report. It only considers the general type of research in our paper pool. Feel free to edit it to better fit your project. You will iteratively update the same notebook submission for your draft and the final submission. Please check the project rubriks to get a sense of what is expected in the template.\n",
    "\n",
    "---\n",
    "\n",
    "# FAQ and Attentions\n",
    "* Copy and move this template to your Google Drive. Name your notebook by your team ID (upper-left corner). Don't eidt this original file.\n",
    "* This template covers most questions we want to ask about your reproduction experiment. You don't need to exactly follow the template, however, you should address the questions. Please feel free to customize your report accordingly.\n",
    "* any report must have run-able codes and necessary annotations (in text and code comments).\n",
    "* The notebook is like a demo and only uses small-size data (a subset of original data or processed data), the entire runtime of the notebook including data reading, data process, model training, printing, figure plotting, etc,\n",
    "must be within 8 min, otherwise, you may get penalty on the grade.\n",
    "  * If the raw dataset is too large to be loaded  you can select a subset of data and pre-process the data, then, upload the subset or processed data to Google Drive and load them in this notebook.\n",
    "  * If the whole training is too long to run, you can only set the number of training epoch to a small number, e.g., 3, just show that the training is runable.\n",
    "  * For results model validation, you can train the model outside this notebook in advance, then, load pretrained model and use it for validation (display the figures, print the metrics).\n",
    "* The post-process is important! For post-process of the results,please use plots/figures. The code to summarize results and plot figures may be tedious, however, it won't be waste of time since these figures can be used for presentation. While plotting in code, the figures should have titles or captions if necessary (e.g., title your figure with \"Figure 1. xxxx\")\n",
    "* There is not page limit to your notebook report, you can also use separate notebooks for the report, just make sure your grader can access and run/test them.\n",
    "* If you use outside resources, please refer them (in any formats). Include the links to the resources if necessary."
   ]
  },
  {
   "cell_type": "markdown",
   "metadata": {
    "id": "dlv6knX04FiY"
   },
   "source": [
    "# Mount Notebook to Google Drive\n",
    "Upload the data, pretrianed model, figures, etc to your Google Drive, then mount this notebook to Google Drive. After that, you can access the resources freely.\n",
    "\n",
    "Instruction: https://colab.research.google.com/notebooks/io.ipynb\n",
    "\n",
    "Example: https://colab.research.google.com/drive/1srw_HFWQ2SMgmWIawucXfusGzrj1_U0q\n",
    "\n",
    "Video: https://www.youtube.com/watch?v=zc8g8lGcwQU"
   ]
  },
  {
   "cell_type": "code",
   "execution_count": null,
   "metadata": {
    "id": "sfk8Zrul_E8V"
   },
   "outputs": [],
   "source": [
    "from google.colab import drive\n",
    "drive.mount('/content/drive')"
   ]
  },
  {
   "cell_type": "markdown",
   "metadata": {
    "id": "MQ0sNuMePBXx"
   },
   "source": [
    "# Introduction\n",
    "This is an introduction to your report, you should edit this text/mardown section to compose. In this text/markdown, you should introduce:\n",
    "\n",
    "*   Background of the problem\n",
    "  * what type of problem: disease/readmission/mortality prediction,  feature engineeing, data processing, etc\n",
    "  * what is the importance/meaning of solving the problem\n",
    "  * what is the difficulty of the problem\n",
    "  * the state of the art methods and effectiveness.\n",
    "*   Paper explanation\n",
    "  * what did the paper propose\n",
    "  * what is the innovations of the method\n",
    "  * how well the proposed method work (in its own metrics)\n",
    "  * what is the contribution to the reasearch regime (referring the Background above, how important the paper is to the problem).\n"
   ]
  },
  {
   "cell_type": "markdown",
   "metadata": {},
   "source": [
    "It is difficult to develop effective machine learning models for text classification on small and imbalanced datasets. This issue is common in healthcare applications, as complex models like BERT often lead to overfitting when trained on small datasets.\n",
    "\n",
    "The paper implements LESA-BERT (Label Embedding on Self-Attention in BERT). The value of this model is that it incorporates label embeddings into the self-attention mechanism of BERT to better capture label-token associations.\n",
    "\n",
    "Link to original paper: [Students Need More Attention: BERT-based Attention Model for Small Data with Application to Automatic Patient Message Triage](https://proceedings.mlr.press/v126/si20a.html)"
   ]
  },
  {
   "cell_type": "code",
   "execution_count": 1,
   "metadata": {
    "id": "ABD4VhFZbehA"
   },
   "outputs": [],
   "source": [
    "# code comment is used as inline annotations for your coding"
   ]
  },
  {
   "cell_type": "markdown",
   "metadata": {
    "id": "uygL9tTPSVHB"
   },
   "source": [
    "# Scope of Reproducibility:\n",
    "\n",
    "List hypotheses from the paper you will test and the corresponding experiments you will run.\n",
    "\n",
    "\n",
    "1.   Hypothesis 1: Label embeddings improve the performance of the BioBERT model on small datasets\n",
    "2.   Hypothesis 2: \n",
    "\n"
   ]
  },
  {
   "cell_type": "markdown",
   "metadata": {
    "id": "LM4WUjz64C3B"
   },
   "source": [
    "\n",
    "You can also use code to display images, see the code below.\n",
    "\n",
    "The images must be saved in Google Drive first.\n"
   ]
  },
  {
   "cell_type": "code",
   "execution_count": null,
   "metadata": {
    "id": "rRksCB1vbYwJ"
   },
   "outputs": [],
   "source": [
    "# no code is required for this section\n",
    "'''\n",
    "if you want to use an image outside this notebook for explanaition,\n",
    "you can upload it to your google drive and show it with OpenCV or matplotlib\n",
    "'''\n",
    "# mount this notebook to your google drive\n",
    "drive.mount('/content/gdrive')\n",
    "\n",
    "# define dirs to workspace and data\n",
    "img_dir = '/content/gdrive/My Drive/Colab Notebooks/<path-to-your-image>'\n",
    "\n",
    "import cv2\n",
    "img = cv2.imread(img_dir)\n",
    "cv2.imshow(\"Title\", img)\n"
   ]
  },
  {
   "cell_type": "markdown",
   "metadata": {
    "id": "xWAHJ_1CdtaA"
   },
   "source": [
    "# Methodology\n",
    "\n",
    "This methodology is the core of your project. It consists of run-able codes with necessary annotations to show the expeiment you executed for testing the hypotheses.\n",
    "\n",
    "The methodology at least contains two subsections **data** and **model** in your experiment."
   ]
  },
  {
   "cell_type": "code",
   "execution_count": null,
   "metadata": {
    "id": "yu61Jp1xrnKk"
   },
   "outputs": [],
   "source": [
    "# import  packages you need\n",
    "import numpy as np\n",
    "from google.colab import drive\n"
   ]
  },
  {
   "cell_type": "markdown",
   "metadata": {
    "id": "2NbPHUTMbkD3"
   },
   "source": [
    "##  Data\n",
    "Data includes raw data (MIMIC III tables), descriptive statistics (our homework questions), and data processing (feature engineering).\n",
    "  * Source of the data: where the data is collected from; if data is synthetic or self-generated, explain how. If possible, please provide a link to the raw datasets.\n",
    "  * Statistics: include basic descriptive statistics of the dataset like size, cross validation split, label distribution, etc.\n",
    "  * Data process: how do you munipulate the data, e.g., change the class labels, split the dataset to train/valid/test, refining the dataset.\n",
    "  * Illustration: printing results, plotting figures for illustration.\n",
    "  * You can upload your raw dataset to Google Drive and mount this Colab to the same directory. If your raw dataset is too large, you can upload the processed dataset and have a code to load the processed dataset."
   ]
  },
  {
   "cell_type": "markdown",
   "metadata": {
    "id": "XzVUQS0CHry0"
   },
   "source": [
    "Unfortunately, according to the Github repository it says “Unfortunately, we can't release the message-urgency data used in our paper due to privacy issues.” I have not yet been able to retrieve the medical data associated with the project. However, I have been able to retrieve alternate data that can still be used to test the methods described in the paper."
   ]
  },
  {
   "cell_type": "code",
   "execution_count": null,
   "metadata": {
    "id": "BZScZNbROw-N"
   },
   "outputs": [],
   "source": [
    "# dir and function to load raw data\n",
    "raw_data_dir = '/content/gdrive/My Drive/Colab Notebooks/<path-to-raw-data>'\n",
    "\n",
    "def load_raw_data(raw_data_dir):\n",
    "  # implement this function to load raw data to dataframe/numpy array/tensor\n",
    "  return None\n",
    "\n",
    "raw_data = load_raw_data(raw_data_dir)\n",
    "\n",
    "# calculate statistics\n",
    "def calculate_stats(raw_data):\n",
    "  # implement this function to calculate the statistics\n",
    "  # it is encouraged to print out the results\n",
    "  return None\n",
    "\n",
    "# process raw data\n",
    "def process_data(raw_data):\n",
    "    # implement this function to process the data as you need\n",
    "  return None\n",
    "\n",
    "processed_data = process_data(raw_data)\n",
    "\n",
    "''' you can load the processed data directly\n",
    "processed_data_dir = '/content/gdrive/My Drive/Colab Notebooks/<path-to-raw-data>'\n",
    "def load_processed_data(raw_data_dir):\n",
    "  pass\n",
    "\n",
    "'''"
   ]
  },
  {
   "cell_type": "markdown",
   "metadata": {
    "id": "3muyDPFPbozY"
   },
   "source": [
    "##   Model\n",
    "The model includes the model definitation which usually is a class, model training, and other necessary parts.\n",
    "  * Model architecture: layer number/size/type, activation function, etc\n",
    "  * Training objectives: loss function, optimizer, weight of each loss term, etc\n",
    "  * Others: whether the model is pretrained, Monte Carlo simulation for uncertainty analysis, etc\n",
    "  * The code of model should have classes of the model, functions of model training, model validation, etc.\n",
    "  * If your model training is done outside of this notebook, please upload the trained model here and develop a function to load and test it."
   ]
  },
  {
   "cell_type": "markdown",
   "metadata": {},
   "source": [
    "I will test building the model off of both the BERT and BioBERT models. The paper provides the label embedding keywords that were used to modify each of the models, so I will be able to test the given keywords as well as experiment in this area."
   ]
  },
  {
   "cell_type": "code",
   "execution_count": null,
   "metadata": {},
   "outputs": [],
   "source": [
    "# Code for setting up and enhancing the BioBERT model\n",
    "\n",
    "import numpy as np\n",
    "import torch\n",
    "\n",
    "from transformers import (\n",
    "    AutoTokenizer,\n",
    "    WEIGHTS_NAME,\n",
    "    AdamW,\n",
    "    BertConfig,\n",
    "    BertForSequenceClassification,\n",
    "    BertTokenizer,\n",
    ")\n",
    "from transformers import glue_compute_metrics as compute_metrics\n",
    "from transformers import glue_convert_examples_to_features as convert_examples_to_features\n",
    "from transformers import glue_output_modes as output_modes\n",
    "from transformers import glue_processors as processors\n",
    "\n",
    "\n",
    "try:\n",
    "    from torch.utils.tensorboard import SummaryWriter\n",
    "except ImportError:\n",
    "    from tensorboardX import SummaryWriter\n",
    "\n",
    "\n",
    "\n",
    "\n",
    "def get_init_label_embedding(immediate_tokens, soon_tokens, tokenizer, embedding, device):\n",
    "    \"\"\"\n",
    "    Compute embeddings for 'immediate', 'soon', and a random 'plain' category using token lists.\n",
    "    \"\"\"\n",
    "    def get_embeds(tokens):\n",
    "        \"\"\"\n",
    "        Convert a list of token lists to a single averaged embedding vector.\n",
    "        \"\"\"\n",
    "        embeds = []\n",
    "        for t in tokens:\n",
    "            ids = torch.tensor(tokenizer.convert_tokens_to_ids(t), dtype=torch.long, device=device)\n",
    "            embeds.append(embedding(ids).mean(0))\n",
    "        return torch.stack(embeds, dim=0).mean(0).detach().cpu().numpy()\n",
    "\n",
    "    immediate_embeds = get_embeds(immediate_tokens)\n",
    "    soon_embeds = get_embeds(soon_tokens)\n",
    "    plain_embeds = np.random.normal(size=embedding.embedding_dim)\n",
    "    return np.stack([plain_embeds, soon_embeds, immediate_embeds], axis=0)\n",
    "\n",
    "\n",
    "# Tokens taken from Table 2 of the original paper\n",
    "# Immediate and soon represent different magnitudes of urgency for the conditions\n",
    "immediate_tokens = [['all', '##ergic'], ['it', '##chy', 'bleeding'], ['difficulty', 'breathing'], ['short', '##ness', 'of', 'breathing'], ['chest', 'pain'], ['confusion'],\n",
    "                    ['di', '##sor', '##ient', '##ation'],['loss', 'of', 'con', '##cious', '##ness'], ['occurred', 'today'], ['ing', '##est', '##ion', 'of', 'poison'],['numb', '##ness'],\n",
    "                    ['severe'], ['para', '##lysis'], ['pain'], ['s', '##lu', '##rred'], ['g', '##ar', '##bled'], ['new', 'onset'], ['suicide'] ]\n",
    "soon_tokens = [['loss', 'of', 'balance'], ['loss', 'of', 'coordination'], ['di', '##zzi', '##ness'], ['swelling'], ['headache'], ['nausea'], ['vomit'], ['p', '##al', '##pit', '##ation'],\n",
    "               ['pain'], ['blurred', 'vision'], ['double', 'vision'], ['w', '##hee', '##zing']]\n",
    "\n",
    "# TODO: Download the BioBERT model from online\n",
    "model_path = ''\n",
    "tokenizer = AutoTokenizer.from_pretrained(model_path)\n",
    "\n",
    "config_class, model_class, tokenizer_class = (BertConfig, BertForSequenceClassification, BertTokenizer)\n",
    "config = BertConfig.from_pretrained(model_path)\n",
    "model = model_class.from_pretrained(model_path, from_tf=True, config=config)\n",
    "\n",
    "# TODO: See if I can get GPU running to speed up local training\n",
    "# However, this might not be necessary\n",
    "device='cpu'\n",
    "init_label_embedding = get_init_label_embedding(immediate_tokens, soon_tokens, tokenizer, model.bert.embeddings.word_embeddings, device=device)\n",
    "w = torch.tensor(init_label_embedding, device=device)\n",
    "model.bert.embeddings.label_embeddings = torch.nn.Embedding.from_pretrained(w, freeze=False).to(device)"
   ]
  },
  {
   "cell_type": "markdown",
   "metadata": {},
   "source": [
    "Given the nature of the objective of the model of working with smaller or imbalanced datasets, minimal training infrastructure will be required luckily."
   ]
  },
  {
   "cell_type": "code",
   "execution_count": null,
   "metadata": {},
   "outputs": [],
   "source": [
    "# Initial code for training the model (once I have found the data I will be using)\n",
    "\n",
    "from transformers import BertForSequenceClassification, AdamW\n",
    "\n",
    "model = None\n",
    "model.to(device) \n",
    "\n",
    "optimizer = AdamW(model.parameters(), lr=5e-5)\n",
    "\n",
    "model.train()\n",
    "NUM_EPOCHS = 3\n",
    "for epoch in range(NUM_EPOCHS):\n",
    "    for batch in train_loader:\n",
    "        batch = tuple(item.to(device) for item in batch)\n",
    "        inputs = {'input_ids': batch[0], 'attention_mask': batch[1], 'labels': batch[2]}\n",
    "        optimizer.zero_grad()\n",
    "        outputs = model(**inputs)\n",
    "        loss = outputs.loss\n",
    "        loss.backward()\n",
    "        optimizer.step()\n",
    "        print(f\"Epoch {epoch}, Loss: {loss.item()}\")"
   ]
  },
  {
   "cell_type": "markdown",
   "metadata": {},
   "source": [
    "I have not yet had the opportunity to evaluate the model, but when I do I will track the macro F1 score, macro precision, and macro recall scores for both the baseline and the modified models. I will keep track of how these scores change over time as the model develops."
   ]
  },
  {
   "cell_type": "code",
   "execution_count": null,
   "metadata": {},
   "outputs": [],
   "source": [
    "# Initial code for evaluating the model's accuracy\n",
    "\n",
    "from sklearn.metrics import accuracy_score\n",
    "\n",
    "model.eval()\n",
    "val_predictions = []\n",
    "val_references = []\n",
    "for batch in val_loader:\n",
    "    batch = tuple(item.to(device) for item in batch)\n",
    "    inputs = {'input_ids': batch[0], 'attention_mask': batch[1]}\n",
    "    with torch.no_grad():\n",
    "        outputs = model(**inputs)\n",
    "    logits = outputs.logits\n",
    "    predictions = torch.argmax(logits, dim=-1)\n",
    "    val_predictions.extend(predictions.cpu().numpy())\n",
    "    val_references.extend(batch[2].cpu().numpy())\n",
    "\n",
    "# TODO: Add more metrics to chart\n",
    "# TODO: Add visual representations of the evaluation metrics\n",
    "accuracy = accuracy_score(val_references, val_predictions)\n",
    "print(f\"Validation Accuracy: {accuracy}\")"
   ]
  },
  {
   "cell_type": "code",
   "execution_count": null,
   "metadata": {
    "id": "gBdVZoTvsSFV"
   },
   "outputs": [],
   "source": [
    "class my_model():\n",
    "  # use this class to define your model\n",
    "  pass\n",
    "\n",
    "model = my_model()\n",
    "loss_func = None\n",
    "optimizer = None\n",
    "\n",
    "def train_model_one_iter(model, loss_func, optimizer):\n",
    "  pass\n",
    "\n",
    "num_epoch = 10\n",
    "# model training loop: it is better to print the training/validation losses during the training\n",
    "for i in range(num_epoch):\n",
    "  train_model_one_iter(model, loss_func, optimizer)\n",
    "  train_loss, valid_loss = None, None\n",
    "  print(\"Train Loss: %.2f, Validation Loss: %.2f\" % (train_loss, valid_loss))\n"
   ]
  },
  {
   "cell_type": "markdown",
   "metadata": {
    "id": "gX6bCcZNuxmz"
   },
   "source": [
    "# Results\n",
    "In this section, you should finish training your model training or loading your trained model. That is a great experiment! You should share the results with others with necessary metrics and figures.\n",
    "\n",
    "Please test and report results for all experiments that you run with:\n",
    "\n",
    "*   specific numbers (accuracy, AUC, RMSE, etc)\n",
    "*   figures (loss shrinkage, outputs from GAN, annotation or label of sample pictures, etc)\n"
   ]
  },
  {
   "cell_type": "code",
   "execution_count": null,
   "metadata": {
    "id": "LjW9bCkouv8O"
   },
   "outputs": [],
   "source": [
    "# metrics to evaluate my model\n",
    "\n",
    "# plot figures to better show the results\n",
    "\n",
    "# it is better to save the numbers and figures for your presentation."
   ]
  },
  {
   "cell_type": "markdown",
   "metadata": {},
   "source": [
    "Unfortunately I have minimal results available at this time. I plan to create and prepare clear charts that demonstrate the effectiveness of the methods proposed in the original paper."
   ]
  },
  {
   "cell_type": "markdown",
   "metadata": {
    "id": "8EAWAy_LwHlV"
   },
   "source": [
    "## Model comparison"
   ]
  },
  {
   "cell_type": "code",
   "execution_count": null,
   "metadata": {
    "id": "uOdhGrbwwG71"
   },
   "outputs": [],
   "source": [
    "# compare you model with others\n",
    "# you don't need to re-run all other experiments, instead, you can directly refer the metrics/numbers in the paper"
   ]
  },
  {
   "cell_type": "markdown",
   "metadata": {
    "id": "qH75TNU71eRH"
   },
   "source": [
    "# Discussion\n",
    "\n",
    "In this section,you should discuss your work and make future plan. The discussion should address the following questions:\n",
    "  * Make assessment that the paper is reproducible or not.\n",
    "  * Explain why it is not reproducible if your results are kind negative.\n",
    "  * Describe “What was easy” and “What was difficult” during the reproduction.\n",
    "  * Make suggestions to the author or other reproducers on how to improve the reproducibility.\n",
    "  * What will you do in next phase.\n",
    "\n"
   ]
  },
  {
   "cell_type": "code",
   "execution_count": null,
   "metadata": {
    "id": "E2VDXo5F4Frm"
   },
   "outputs": [],
   "source": [
    "# no code is required for this section\n",
    "'''\n",
    "if you want to use an image outside this notebook for explanaition,\n",
    "you can read and plot it here like the Scope of Reproducibility\n",
    "'''"
   ]
  },
  {
   "cell_type": "markdown",
   "metadata": {
    "id": "SHMI2chl9omn"
   },
   "source": [
    "# References\n",
    "\n",
    "1.   Si, S., Wang, R., Wosik, J., Zhang, H., Dov, D., Wang, G. &amp; Carin, L.. (2020). Students Need More Attention: BERT-based Attention Model for Small Data with Application to Automatic Patient Message Triage. <i>Proceedings of the 5th Machine Learning for Healthcare Conference</i>, in <i>Proceedings of Machine Learning Research</i> 126:436-456 Available from https://proceedings.mlr.press/v126/si20a.html.\n",
    "\n"
   ]
  },
  {
   "cell_type": "markdown",
   "metadata": {
    "id": "xmVuzQ724HbO"
   },
   "source": [
    "# Feel free to add new sections"
   ]
  }
 ],
 "metadata": {
  "colab": {
   "private_outputs": true,
   "provenance": [],
   "toc_visible": true
  },
  "kernelspec": {
   "display_name": "Python 3 (ipykernel)",
   "language": "python",
   "name": "python3"
  },
  "language_info": {
   "codemirror_mode": {
    "name": "ipython",
    "version": 3
   },
   "file_extension": ".py",
   "mimetype": "text/x-python",
   "name": "python",
   "nbconvert_exporter": "python",
   "pygments_lexer": "ipython3",
   "version": "3.9.0"
  }
 },
 "nbformat": 4,
 "nbformat_minor": 1
}
